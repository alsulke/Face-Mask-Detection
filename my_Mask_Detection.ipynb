{
 "cells": [
  {
   "cell_type": "code",
   "execution_count": 1,
   "metadata": {},
   "outputs": [],
   "source": [
    "from tensorflow.keras.applications.mobilenet_v2 import preprocess_input\n",
    "from tensorflow.keras.preprocessing.image import img_to_array\n",
    "from tensorflow.keras.models import load_model\n",
    "from imutils.video import VideoStream\n",
    "import numpy as np\n",
    "import imutils\n",
    "import time\n",
    "import cv2\n",
    "import os"
   ]
  },
  {
   "cell_type": "code",
   "execution_count": 2,
   "metadata": {},
   "outputs": [],
   "source": [
    "def detect_and_prdict_mask(frame,faceNet,maskNet) :\n",
    "    (h,w)  = frame.shape[:2]\n",
    "    blob = cv2.dnn.blobFromImage(frame,1.0,(300,300),(104.0, 177.0, 123.0)) #rescaling, size, mean substraction\n",
    "    faceNet.setInput(blob)\n",
    "    detections = faceNet.forward()\n",
    "    \n",
    "    faces = []\n",
    "    locs = []\n",
    "    preds = []\n",
    "    \n",
    "    for i in range(0,detections.shape[2]) :\n",
    "        confidence = detections[0,0,i,2]\n",
    "        if(confidence>0.5) :\n",
    "            box = detections[0, 0, i, 3:7] * np.array([w, h, w, h])\n",
    "            (startX, startY, endX, endY) = box.astype(\"int\")\n",
    "            \n",
    "            # ensure the bounding boxes fall within the dimensions of the frame\n",
    "            (startX, startY) = (max(0, startX), max(0, startY))\n",
    "            (endX, endY) = (min(w - 1, endX), min(h - 1, endY))\n",
    "            \n",
    "            face = frame[startY:endY, startX:endX]\n",
    "            face = cv2.cvtColor(face, cv2.COLOR_BGR2RGB)\n",
    "            face = cv2.resize(face, (224,224))\n",
    "            face = img_to_array(face)\n",
    "            face = preprocess_input(face)\n",
    "            face = np.expand_dims(face,axis=0)\n",
    "            \n",
    "            faces.append(face)\n",
    "            locs.append((startX, startY, endX, endY))\n",
    "    \n",
    "    if(len(faces)>0) :  \n",
    "        preds = maskNet.predict(faces)\n",
    "    return (locs,preds)\n",
    "            \n",
    "            \n",
    "        "
   ]
  },
  {
   "cell_type": "code",
   "execution_count": 3,
   "metadata": {},
   "outputs": [],
   "source": [
    "prototxtPath = \"C:\\\\Users\\\\shubham sulke\\\\Downloads\\\\face-mask-detector\\\\face-mask-detector\\\\face_detector\\\\res10_300x300_ssd_iter_140000.caffemodel\"\n",
    "weightsPath = \"C:\\\\Users\\\\shubham sulke\\\\Downloads\\\\face-mask-detector\\\\face-mask-detector\\\\face_detector\\\\deploy.prototxt\"\n",
    "\n",
    "faceNet = cv2.dnn.readNet(prototxtPath,weightsPath)\n",
    "\n",
    "maskNet = load_model('mask_detector.model')\n"
   ]
  },
  {
   "cell_type": "code",
   "execution_count": null,
   "metadata": {},
   "outputs": [],
   "source": [
    "vs = VideoStream(src=0).start()\n",
    "time.sleep(2.0)\n",
    "\n",
    "while True :\n",
    "    frame = vs.read()\n",
    "    frame = imutils.resize(frame,width=400)\n",
    "    \n",
    "    (locs,preds) = detect_and_prdict_mask(frame,faceNet,maskNet)\n",
    "    \n",
    "    for(box,pred) in zip(locs,preds) :\n",
    "        (startX, startY, endX, endY) = box\n",
    "        (mask, withoutMask) = pred\n",
    "        \n",
    "        label = \"Mask\" if mask>withoutMask else \"No Mask\"\n",
    "        color = (0,255,0) if label==\"Mask\" else (0,0,255)\n",
    "        \n",
    "        label = \"{} : {:.2f}%\".format(label, max(mask,withoutMask)*100)\n",
    "        \n",
    "        cv2.putText(frame,label,(startX,startY-10),cv2.FONT_HERSHEY_SIMPLEX, 0.45, color, 2)\n",
    "        cv2.rectangle(frame,(startX, startY), (endX, endY), color, 2)\n",
    "        \n",
    "    cv2.imshow(\"Frame\", frame)\n",
    "    key = cv2.waitKey(1) & 0xFF\n",
    "        \n"
   ]
  },
  {
   "cell_type": "code",
   "execution_count": null,
   "metadata": {},
   "outputs": [],
   "source": []
  }
 ],
 "metadata": {
  "kernelspec": {
   "display_name": "Python 3",
   "language": "python",
   "name": "python3"
  },
  "language_info": {
   "codemirror_mode": {
    "name": "ipython",
    "version": 3
   },
   "file_extension": ".py",
   "mimetype": "text/x-python",
   "name": "python",
   "nbconvert_exporter": "python",
   "pygments_lexer": "ipython3",
   "version": "3.7.6"
  }
 },
 "nbformat": 4,
 "nbformat_minor": 4
}
